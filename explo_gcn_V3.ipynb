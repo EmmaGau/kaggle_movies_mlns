{
  "cells": [
    {
      "cell_type": "code",
      "execution_count": null,
      "metadata": {
        "colab": {
          "base_uri": "https://localhost:8080/"
        },
        "id": "8AwBZz7LuWPp",
        "outputId": "dacac8c0-4622-45e2-9b40-21b451bcad61"
      },
      "outputs": [],
      "source": [
        "########## INSTALL TORCH GEOMETRIC ##################\n",
        "# https://pytorch-geometric.readthedocs.io/en/latest/\n",
        "#####################################################\n",
        "import torch\n",
        "\n",
        "\n",
        "def format_pytorch_version(version):\n",
        "    return version.split(\"+\")[0]\n",
        "\n",
        "\n",
        "TORCH_version = torch.__version__\n",
        "TORCH = format_pytorch_version(TORCH_version)\n",
        "\n",
        "\n",
        "def format_cuda_version(version):\n",
        "    return \"cu\" + version.replace(\".\", \"\")\n",
        "\n",
        "\n",
        "CUDA_version = torch.version.cuda\n",
        "CUDA = format_cuda_version(CUDA_version)\n",
        "\n",
        "!pip install torch-scatter     -f https://pytorch-geometric.com/whl/torch-{TORCH}+{CUDA}.html\n",
        "!pip install torch-sparse      -f https://pytorch-geometric.com/whl/torch-{TORCH}+{CUDA}.html\n",
        "!pip install torch-cluster     -f https://pytorch-geometric.com/whl/torch-{TORCH}+{CUDA}.html\n",
        "!pip install torch-spline-conv -f https://pytorch-geometric.com/whl/torch-{TORCH}+{CUDA}.html\n",
        "!pip install torch-geometric"
      ]
    },
    {
      "cell_type": "markdown",
      "metadata": {
        "id": "_c9yX2_aw6k9"
      },
      "source": [
        "# 1. Feature Engineering"
      ]
    },
    {
      "cell_type": "code",
      "execution_count": 1,
      "metadata": {
        "id": "7jCqk-F5Kllc"
      },
      "outputs": [],
      "source": [
        "import pandas as pd\n",
        "import numpy as np\n",
        "import torch\n",
        "from torch_geometric.data import Data\n",
        "from torch_geometric.nn import GATv2Conv, SAGEConv\n",
        "from torch_geometric.loader import NeighborLoader, LinkNeighborLoader, LinkLoader, NodeLoader\n",
        "import torch.nn as nn\n",
        "import torch.optim as optim\n",
        "from sklearn.metrics import f1_score, accuracy_score, confusion_matrix\n",
        "from sklearn.preprocessing import StandardScaler\n",
        "\n",
        "import random\n",
        "import networkx as nx\n",
        "import tqdm\n",
        "import matplotlib.pyplot as plt\n",
        "import csv\n",
        "from sklearn.model_selection import train_test_split\n",
        "from sklearn.decomposition import PCA\n",
        "from sklearn.cluster import KMeans\n",
        "import seaborn as sns\n",
        "import prince"
      ]
    },
    {
      "cell_type": "code",
      "execution_count": 2,
      "metadata": {
        "colab": {
          "base_uri": "https://localhost:8080/",
          "height": 235
        },
        "id": "JLl4NOyWw6k-",
        "outputId": "3a4fa2e0-6064-4017-d558-f187ae8b22d6"
      },
      "outputs": [
        {
          "data": {
            "text/html": [
              "<div>\n",
              "<style scoped>\n",
              "    .dataframe tbody tr th:only-of-type {\n",
              "        vertical-align: middle;\n",
              "    }\n",
              "\n",
              "    .dataframe tbody tr th {\n",
              "        vertical-align: top;\n",
              "    }\n",
              "\n",
              "    .dataframe thead th {\n",
              "        text-align: right;\n",
              "    }\n",
              "</style>\n",
              "<table border=\"1\" class=\"dataframe\">\n",
              "  <thead>\n",
              "    <tr style=\"text-align: right;\">\n",
              "      <th></th>\n",
              "      <th>node_id</th>\n",
              "      <th>1</th>\n",
              "      <th>2</th>\n",
              "      <th>3</th>\n",
              "      <th>4</th>\n",
              "      <th>5</th>\n",
              "      <th>6</th>\n",
              "      <th>7</th>\n",
              "      <th>8</th>\n",
              "      <th>9</th>\n",
              "      <th>...</th>\n",
              "      <th>923</th>\n",
              "      <th>924</th>\n",
              "      <th>925</th>\n",
              "      <th>926</th>\n",
              "      <th>927</th>\n",
              "      <th>928</th>\n",
              "      <th>929</th>\n",
              "      <th>930</th>\n",
              "      <th>931</th>\n",
              "      <th>932</th>\n",
              "    </tr>\n",
              "  </thead>\n",
              "  <tbody>\n",
              "    <tr>\n",
              "      <th>0</th>\n",
              "      <td>0</td>\n",
              "      <td>0.0</td>\n",
              "      <td>0.0</td>\n",
              "      <td>0.0</td>\n",
              "      <td>0.0</td>\n",
              "      <td>0.0</td>\n",
              "      <td>0.0</td>\n",
              "      <td>0.0</td>\n",
              "      <td>0.0</td>\n",
              "      <td>0.0</td>\n",
              "      <td>...</td>\n",
              "      <td>0.0</td>\n",
              "      <td>0.0</td>\n",
              "      <td>0.0</td>\n",
              "      <td>0.0</td>\n",
              "      <td>0.0</td>\n",
              "      <td>0.0</td>\n",
              "      <td>0.0</td>\n",
              "      <td>0.0</td>\n",
              "      <td>0.0</td>\n",
              "      <td>0.0</td>\n",
              "    </tr>\n",
              "    <tr>\n",
              "      <th>1</th>\n",
              "      <td>4</td>\n",
              "      <td>0.0</td>\n",
              "      <td>0.0</td>\n",
              "      <td>0.0</td>\n",
              "      <td>0.0</td>\n",
              "      <td>0.0</td>\n",
              "      <td>0.0</td>\n",
              "      <td>0.0</td>\n",
              "      <td>0.0</td>\n",
              "      <td>0.0</td>\n",
              "      <td>...</td>\n",
              "      <td>0.0</td>\n",
              "      <td>0.0</td>\n",
              "      <td>0.0</td>\n",
              "      <td>0.0</td>\n",
              "      <td>0.0</td>\n",
              "      <td>0.0</td>\n",
              "      <td>0.0</td>\n",
              "      <td>0.0</td>\n",
              "      <td>0.0</td>\n",
              "      <td>0.0</td>\n",
              "    </tr>\n",
              "    <tr>\n",
              "      <th>2</th>\n",
              "      <td>5</td>\n",
              "      <td>0.0</td>\n",
              "      <td>0.0</td>\n",
              "      <td>0.0</td>\n",
              "      <td>0.0</td>\n",
              "      <td>0.0</td>\n",
              "      <td>0.0</td>\n",
              "      <td>0.0</td>\n",
              "      <td>0.0</td>\n",
              "      <td>0.0</td>\n",
              "      <td>...</td>\n",
              "      <td>0.0</td>\n",
              "      <td>0.0</td>\n",
              "      <td>0.0</td>\n",
              "      <td>0.0</td>\n",
              "      <td>0.0</td>\n",
              "      <td>0.0</td>\n",
              "      <td>0.0</td>\n",
              "      <td>0.0</td>\n",
              "      <td>0.0</td>\n",
              "      <td>0.0</td>\n",
              "    </tr>\n",
              "    <tr>\n",
              "      <th>3</th>\n",
              "      <td>6</td>\n",
              "      <td>0.0</td>\n",
              "      <td>0.0</td>\n",
              "      <td>0.0</td>\n",
              "      <td>0.0</td>\n",
              "      <td>0.0</td>\n",
              "      <td>0.0</td>\n",
              "      <td>0.0</td>\n",
              "      <td>0.0</td>\n",
              "      <td>0.0</td>\n",
              "      <td>...</td>\n",
              "      <td>0.0</td>\n",
              "      <td>0.0</td>\n",
              "      <td>0.0</td>\n",
              "      <td>0.0</td>\n",
              "      <td>0.0</td>\n",
              "      <td>0.0</td>\n",
              "      <td>0.0</td>\n",
              "      <td>0.0</td>\n",
              "      <td>0.0</td>\n",
              "      <td>0.0</td>\n",
              "    </tr>\n",
              "    <tr>\n",
              "      <th>4</th>\n",
              "      <td>7</td>\n",
              "      <td>0.0</td>\n",
              "      <td>0.0</td>\n",
              "      <td>0.0</td>\n",
              "      <td>0.0</td>\n",
              "      <td>0.0</td>\n",
              "      <td>0.0</td>\n",
              "      <td>0.0</td>\n",
              "      <td>0.0</td>\n",
              "      <td>0.0</td>\n",
              "      <td>...</td>\n",
              "      <td>0.0</td>\n",
              "      <td>0.0</td>\n",
              "      <td>0.0</td>\n",
              "      <td>0.0</td>\n",
              "      <td>0.0</td>\n",
              "      <td>0.0</td>\n",
              "      <td>0.0</td>\n",
              "      <td>0.0</td>\n",
              "      <td>0.0</td>\n",
              "      <td>0.0</td>\n",
              "    </tr>\n",
              "  </tbody>\n",
              "</table>\n",
              "<p>5 rows × 933 columns</p>\n",
              "</div>"
            ],
            "text/plain": [
              "   node_id    1    2    3    4    5    6    7    8    9  ...  923  924  925  \\\n",
              "0        0  0.0  0.0  0.0  0.0  0.0  0.0  0.0  0.0  0.0  ...  0.0  0.0  0.0   \n",
              "1        4  0.0  0.0  0.0  0.0  0.0  0.0  0.0  0.0  0.0  ...  0.0  0.0  0.0   \n",
              "2        5  0.0  0.0  0.0  0.0  0.0  0.0  0.0  0.0  0.0  ...  0.0  0.0  0.0   \n",
              "3        6  0.0  0.0  0.0  0.0  0.0  0.0  0.0  0.0  0.0  ...  0.0  0.0  0.0   \n",
              "4        7  0.0  0.0  0.0  0.0  0.0  0.0  0.0  0.0  0.0  ...  0.0  0.0  0.0   \n",
              "\n",
              "   926  927  928  929  930  931  932  \n",
              "0  0.0  0.0  0.0  0.0  0.0  0.0  0.0  \n",
              "1  0.0  0.0  0.0  0.0  0.0  0.0  0.0  \n",
              "2  0.0  0.0  0.0  0.0  0.0  0.0  0.0  \n",
              "3  0.0  0.0  0.0  0.0  0.0  0.0  0.0  \n",
              "4  0.0  0.0  0.0  0.0  0.0  0.0  0.0  \n",
              "\n",
              "[5 rows x 933 columns]"
            ]
          },
          "execution_count": 2,
          "metadata": {},
          "output_type": "execute_result"
        }
      ],
      "source": [
        "csv_file = \"node_information.csv\"\n",
        "node_information = pd.read_csv(csv_file, header=None)\n",
        "node_information.rename(columns={0: \"node_id\"}, inplace=True)\n",
        "node_information.head()"
      ]
    },
    {
      "cell_type": "code",
      "execution_count": 3,
      "metadata": {
        "id": "CwnMVPmDw6k_"
      },
      "outputs": [],
      "source": [
        "node_information = pd.read_csv('node_information.csv', header=None, index_col=0)\n",
        "train_set = pd.read_csv('train.txt', header=None, sep=' ')\n",
        "train_set.columns = ['node1', 'node2', 'connected']\n",
        "test_set = pd.read_csv('test.txt', header=None, sep=' ')\n",
        "test_set.columns = ['node1', 'node2']\n",
        "\n",
        "mapping = {node_information.index[i]: i for i in range(len(node_information))}\n",
        "node_information.index = node_information.index.map(mapping)\n",
        "train_set[\"node1\"] = train_set[\"node1\"].map(mapping)\n",
        "train_set[\"node2\"] = train_set[\"node2\"].map(mapping)\n",
        "test_set[\"node1\"] = test_set[\"node1\"].map(mapping)\n",
        "test_set[\"node2\"] = test_set[\"node2\"].map(mapping)"
      ]
    },
    {
      "cell_type": "code",
      "execution_count": 4,
      "metadata": {
        "colab": {
          "base_uri": "https://localhost:8080/",
          "height": 423
        },
        "id": "hjuW4Cu4w6k_",
        "outputId": "dc7580bf-759c-4a0d-9f6d-153d9d35b9f3"
      },
      "outputs": [
        {
          "data": {
            "text/html": [
              "<div>\n",
              "<style scoped>\n",
              "    .dataframe tbody tr th:only-of-type {\n",
              "        vertical-align: middle;\n",
              "    }\n",
              "\n",
              "    .dataframe tbody tr th {\n",
              "        vertical-align: top;\n",
              "    }\n",
              "\n",
              "    .dataframe thead th {\n",
              "        text-align: right;\n",
              "    }\n",
              "</style>\n",
              "<table border=\"1\" class=\"dataframe\">\n",
              "  <thead>\n",
              "    <tr style=\"text-align: right;\">\n",
              "      <th></th>\n",
              "      <th>node1</th>\n",
              "      <th>node2</th>\n",
              "      <th>connected</th>\n",
              "    </tr>\n",
              "  </thead>\n",
              "  <tbody>\n",
              "    <tr>\n",
              "      <th>0</th>\n",
              "      <td>510</td>\n",
              "      <td>1991</td>\n",
              "      <td>1</td>\n",
              "    </tr>\n",
              "    <tr>\n",
              "      <th>1</th>\n",
              "      <td>1308</td>\n",
              "      <td>2872</td>\n",
              "      <td>1</td>\n",
              "    </tr>\n",
              "    <tr>\n",
              "      <th>2</th>\n",
              "      <td>100</td>\n",
              "      <td>1991</td>\n",
              "      <td>1</td>\n",
              "    </tr>\n",
              "    <tr>\n",
              "      <th>3</th>\n",
              "      <td>466</td>\n",
              "      <td>1221</td>\n",
              "      <td>1</td>\n",
              "    </tr>\n",
              "    <tr>\n",
              "      <th>4</th>\n",
              "      <td>723</td>\n",
              "      <td>2846</td>\n",
              "      <td>1</td>\n",
              "    </tr>\n",
              "    <tr>\n",
              "      <th>...</th>\n",
              "      <td>...</td>\n",
              "      <td>...</td>\n",
              "      <td>...</td>\n",
              "    </tr>\n",
              "    <tr>\n",
              "      <th>10491</th>\n",
              "      <td>44</td>\n",
              "      <td>3176</td>\n",
              "      <td>0</td>\n",
              "    </tr>\n",
              "    <tr>\n",
              "      <th>10492</th>\n",
              "      <td>1</td>\n",
              "      <td>3159</td>\n",
              "      <td>0</td>\n",
              "    </tr>\n",
              "    <tr>\n",
              "      <th>10493</th>\n",
              "      <td>1767</td>\n",
              "      <td>3272</td>\n",
              "      <td>1</td>\n",
              "    </tr>\n",
              "    <tr>\n",
              "      <th>10494</th>\n",
              "      <td>840</td>\n",
              "      <td>2385</td>\n",
              "      <td>0</td>\n",
              "    </tr>\n",
              "    <tr>\n",
              "      <th>10495</th>\n",
              "      <td>1571</td>\n",
              "      <td>2583</td>\n",
              "      <td>0</td>\n",
              "    </tr>\n",
              "  </tbody>\n",
              "</table>\n",
              "<p>10496 rows × 3 columns</p>\n",
              "</div>"
            ],
            "text/plain": [
              "       node1  node2  connected\n",
              "0        510   1991          1\n",
              "1       1308   2872          1\n",
              "2        100   1991          1\n",
              "3        466   1221          1\n",
              "4        723   2846          1\n",
              "...      ...    ...        ...\n",
              "10491     44   3176          0\n",
              "10492      1   3159          0\n",
              "10493   1767   3272          1\n",
              "10494    840   2385          0\n",
              "10495   1571   2583          0\n",
              "\n",
              "[10496 rows x 3 columns]"
            ]
          },
          "execution_count": 4,
          "metadata": {},
          "output_type": "execute_result"
        }
      ],
      "source": [
        "train_set"
      ]
    },
    {
      "cell_type": "code",
      "execution_count": 5,
      "metadata": {
        "colab": {
          "base_uri": "https://localhost:8080/"
        },
        "id": "ADBiZNd1w6k_",
        "outputId": "3819a957-fc57-4933-c1aa-febc8c03db2b"
      },
      "outputs": [
        {
          "name": "stdout",
          "output_type": "stream",
          "text": [
            "Positif: 5248\n",
            "Negatif: 5248\n"
          ]
        }
      ],
      "source": [
        "# combien de samples positifs et négatifs\n",
        "pos = len(train_set[train_set['connected'] == 1])\n",
        "neg = len(train_set[train_set['connected'] == 0])\n",
        "print(f\"Positif: {pos}\")\n",
        "print(f\"Negatif: {neg}\")"
      ]
    },
    {
      "cell_type": "code",
      "execution_count": 6,
      "metadata": {
        "colab": {
          "base_uri": "https://localhost:8080/",
          "height": 34
        },
        "id": "BMCzkkHDw6k_",
        "outputId": "f346ac21-931d-475d-bff3-0b7e0e98f520"
      },
      "outputs": [
        {
          "data": {
            "text/plain": [
              "<Figure size 500x500 with 0 Axes>"
            ]
          },
          "metadata": {},
          "output_type": "display_data"
        }
      ],
      "source": [
        "connected_edges = train_set[train_set['connected'] == 1]\n",
        "training_graph = nx.from_pandas_edgelist(connected_edges, source='node1', target='node2', create_using=nx.Graph())\n",
        "plt.figure(figsize=(5,5))\n",
        "\n",
        "#nx.draw(training_graph, node_size = 5, alpha = 0.2, width = 0.6)\n",
        "\n",
        "plt.show()"
      ]
    },
    {
      "cell_type": "code",
      "execution_count": 7,
      "metadata": {
        "colab": {
          "base_uri": "https://localhost:8080/"
        },
        "id": "Ngxp3XqEw6k_",
        "outputId": "120467b9-2549-48ad-d267-edbb1d62da8c"
      },
      "outputs": [
        {
          "name": "stdout",
          "output_type": "stream",
          "text": [
            "Nombre d'échantillons d'entraînement : 8396\n",
            "Nombre d'échantillons de validation : 2100\n",
            "Nombre de labels positifs dans l'ensemble d'entraînement : 4207\n",
            "Nombre de labels positifs dans l'ensemble de validation : 1041\n"
          ]
        }
      ],
      "source": [
        "# create test samples\n",
        "test_samples = [tuple((element[0], element[1])) for element in test_set.values]\n",
        "# create train and val samples\n",
        "samples = list(zip(train_set['node1'], train_set['node2']))\n",
        "labels = train_set['connected']\n",
        "train_samples, val_samples, train_labels, val_labels = train_test_split(samples, labels, test_size=0.2, random_state=42)\n",
        "\n",
        "# Afficher la taille des ensembles\n",
        "print(\"Nombre d'échantillons d'entraînement :\", len(train_samples))\n",
        "print(\"Nombre d'échantillons de validation :\", len(val_samples))\n",
        "\n",
        "# Repartition des labels dans val et train\n",
        "print(\"Nombre de labels positifs dans l'ensemble d'entraînement :\", sum(train_labels))\n",
        "print(\"Nombre de labels positifs dans l'ensemble de validation :\", sum(val_labels))\n"
      ]
    },
    {
      "cell_type": "code",
      "execution_count": 8,
      "metadata": {
        "id": "J0LOtfcAw6lA"
      },
      "outputs": [],
      "source": [
        "def remove_val_edges(graph,val_samples):\n",
        "    \"\"\"\n",
        "    Remove edges from validation set before computing\n",
        "    \"\"\"\n",
        "    if nx.is_connected(graph) is not True:\n",
        "        raise ValueError(\"The graph contains more than one connected component!\")\n",
        "\n",
        "    residual_g = graph.copy()\n",
        "\n",
        "    # Shuffle the list of edges\n",
        "    edges = list(residual_g.edges())\n",
        "\n",
        "    for (source, target) in val_samples:\n",
        "        if residual_g.has_edge(source, target):\n",
        "            residual_g.remove_edge(source, target)\n",
        "\n",
        "    return residual_g\n",
        "\n",
        "residual_g = remove_val_edges(training_graph, val_samples)"
      ]
    },
    {
      "cell_type": "code",
      "execution_count": 9,
      "metadata": {
        "id": "H2-NaWdxw6lA"
      },
      "outputs": [],
      "source": [
        "residual_edges = list(residual_g.edges())\n",
        "assert len(residual_edges) == sum(train_labels)"
      ]
    },
    {
      "cell_type": "code",
      "execution_count": 10,
      "metadata": {
        "id": "-4xKk8Ser2MV"
      },
      "outputs": [],
      "source": [
        "#nx.draw(residual_g, node_size = 5, alpha = 0.2, width = 0.6)"
      ]
    },
    {
      "cell_type": "code",
      "execution_count": 11,
      "metadata": {
        "id": "CXzCfCLIw6lA"
      },
      "outputs": [],
      "source": [
        "def feature_extractor(graph, samples, node_information):\n",
        "    \"\"\"\n",
        "    Creates a feature vector for each edge of the graph contained in samples\n",
        "    \"\"\"\n",
        "    deg_centrality = nx.degree_centrality(graph)\n",
        "\n",
        "    feature_edge_vector = []\n",
        "    feature_vector = []\n",
        "    for edge in tqdm.tqdm(samples):\n",
        "        source_node, target_node = edge[0], edge[1]\n",
        "\n",
        "         # Degree Centrality\n",
        "        source_degree_centrality = deg_centrality[source_node]\n",
        "        target_degree_centrality = deg_centrality[target_node]\n",
        "\n",
        "\n",
        "        # Preferential Attachement\n",
        "        if source_node not in graph or target_node not in graph:\n",
        "            pref_attach = 0\n",
        "        else:\n",
        "            pref_attach = list(nx.preferential_attachment(graph, [(source_node, target_node)]))[0][2]\n",
        "\n",
        "        # AdamicAdar\n",
        "        if source_node not in graph or target_node not in graph:\n",
        "            aai = 0\n",
        "        else:\n",
        "            aai = sum(1 / np.log(graph.degree(z)) for z in nx.common_neighbors(graph, source_node, target_node))\n",
        "            if np.isinf(aai):\n",
        "                aai = 0\n",
        "        # Compute the Jaccard coefficient\n",
        "        if source_node not in graph or target_node not in graph:\n",
        "            jacard_coeff = 0\n",
        "        else:\n",
        "            neighbords_source, neighbord_target = set(graph.neighbors(source_node)), set(graph.neighbors(target_node))\n",
        "            inter = len(neighbords_source.intersection(neighbord_target))\n",
        "            union = len(neighbords_source.union(neighbord_target))\n",
        "            if union == 0:\n",
        "                jacard_coeff = 0\n",
        "            else:\n",
        "                jacard_coeff = inter/union\n",
        "\n",
        "        feature_edge_metrics = np.array([pref_attach, aai, jacard_coeff])\n",
        "\n",
        "        feature_edge_vector.append(feature_edge_metrics)\n",
        "    return np.array(feature_edge_vector)"
      ]
    },
    {
      "cell_type": "code",
      "execution_count": 12,
      "metadata": {
        "id": "dS44-AEF4PDR"
      },
      "outputs": [],
      "source": [
        "def add_degree_centrality_to_features(residual_g, train_samples, val_samples,test_samples, node_information):\n",
        "  deg_centrality = nx.degree_centrality(residual_g)\n",
        "  node_information['degree_centrality'] = 0\n",
        "\n",
        "  betweeness_centrality = nx.betweenness_centrality(residual_g)\n",
        "  pagerank_centrality = nx.pagerank(residual_g)\n",
        "\n",
        "  every_samples = train_samples + val_samples + test_samples\n",
        "  for edge in tqdm.tqdm(every_samples):\n",
        "      source_node, target_node = edge[0], edge[1]\n",
        "      # Degree Centrality\n",
        "      node_information.at[source_node, 'degree_centrality'] = deg_centrality[source_node]\n",
        "      # Attribution de la centralité degré au nœud cible\n",
        "      node_information.at[target_node, 'degree_centrality'] = deg_centrality[target_node]\n",
        "\n",
        "      # # Degree Centrality\n",
        "      node_information.at[source_node, 'betweenness_centrality'] = betweeness_centrality[source_node]\n",
        "      # # Attribution de la centralité degré au nœud cible\n",
        "      node_information.at[target_node, 'betweenness_centrality'] = betweeness_centrality[target_node]\n",
        "\n",
        "      # PageRank Centrality\n",
        "      node_information.at[source_node, 'pagerank_centrality'] = pagerank_centrality[source_node]\n",
        "      node_information.at[target_node, 'pagerank_centrality'] = pagerank_centrality[target_node]\n",
        "\n",
        "  return node_information\n"
      ]
    },
    {
      "cell_type": "code",
      "execution_count": 14,
      "metadata": {},
      "outputs": [],
      "source": [
        "def add_kcore_number_to_features(residual_g, train_samples, val_samples,test_samples, node_information):\n",
        "  residual_g_copy = residual_g.copy()\n",
        "  residual_g_copy.remove_edges_from(nx.selfloop_edges(residual_g_copy))\n",
        "  kcore = nx.core_number(residual_g_copy)\n",
        "  node_information['kcore'] = 0\n",
        "  every_samples = train_samples + val_samples + test_samples\n",
        "  for edge in tqdm.tqdm(every_samples):\n",
        "      source_node, target_node = edge[0], edge[1]\n",
        "      # kcore\n",
        "      node_information.at[source_node, 'kcore'] = kcore[source_node]\n",
        "\n",
        "      # Attribution kcore number au nœud cible\n",
        "      node_information.at[target_node, 'kcore'] = kcore[target_node]\n",
        "  return node_information"
      ]
    },
    {
      "cell_type": "code",
      "execution_count": null,
      "metadata": {},
      "outputs": [],
      "source": [
        "explained_variance_mca = []\n",
        "explained_variance_pca = []\n",
        "nb_comp = []\n",
        "for i in range(100, node_information.shape[1], 50):\n",
        "  print(i)\n",
        "  mca = prince.MCA(n_components=i)\n",
        "  mca.fit(node_information)\n",
        "  explained_variance_mca.append(mca.eigenvalues_summary[\"% of variance\"].sum())\n",
        "\n",
        "  pca = PCA(n_components=i)\n",
        "  pca.fit(node_information)\n",
        "  explained_variance_pca.append(pca.explained_variance_ratio_.sum())\n",
        "  nb_comp.append(i)\n",
        "\n",
        "for i in range(len(explained_variance_mca)):\n",
        "  explained_variance_mca[i] = np.array(explained_variance_mca[i].split(\"%\")[:-1]).astype(float).sum()\n",
        "\n",
        "fig, axs = plt.subplots(1,2, figsize=(15,5))\n",
        "\n",
        "axs[0].plot(nb_comp, explained_variance_mca)\n",
        "axs[0].set_title(\"Explained variance MCA\")\n",
        "axs[0].set_xlabel(\"Number of components\")\n",
        "axs[0].set_ylabel(\"% of variance explained\")\n",
        "\n",
        "axs[1].plot(nb_comp, explained_variance_pca)\n",
        "axs[1].set_title(\"Explained variance PCA\")\n",
        "axs[1].set_xlabel(\"Number of components\")\n",
        "axs[1].set_ylabel(\"% of variance explained\")\n",
        "\n",
        "fig.suptitle(\"Dimensionality reduction methods\")\n",
        "\n",
        "plt.show()"
      ]
    },
    {
      "cell_type": "code",
      "execution_count": 15,
      "metadata": {},
      "outputs": [],
      "source": [
        "def spectral_clustering(G, k):\n",
        "    '''\n",
        "    :param G: given graph\n",
        "    :param k: the number of clusters\n",
        "    :return partition: a list of node sets where each node set indicates a cluster\n",
        "    '''\n",
        "    A = nx.to_numpy_array(G)\n",
        "    D = np.diag(np.sum(A, axis=1))\n",
        "    L = D - A\n",
        "    eigvals, eigvecs = np.linalg.eigh(L)\n",
        "    kmeans = KMeans(n_clusters=k, random_state=0).fit(eigvecs[:, :k])\n",
        "    partition = []\n",
        "    for i in range(k):\n",
        "        partition.append(set(np.where(kmeans.labels_ == i)[0].astype(str)))\n",
        "            \n",
        "    return tuple(partition)"
      ]
    },
    {
      "cell_type": "code",
      "execution_count": 16,
      "metadata": {},
      "outputs": [],
      "source": [
        "def girvan_newman_algorithm(G):\n",
        "    '''\n",
        "    :param G: given graph\n",
        "    :return partitions: a list tuples of sets of nodes in the graph. Each node set indicates a community and\n",
        "    each tuple is a sequence of communities at a certain level of the algorithm.\n",
        "    '''\n",
        "    g = G.copy()\n",
        "    partitions = []\n",
        "\n",
        "    while True:\n",
        "        betweenness = nx.edge_betweenness_centrality(g)\n",
        "        max_edge = max(betweenness, key=betweenness.get)\n",
        "        g.remove_edge(*max_edge)\n",
        "        tuple_component = []\n",
        "        for component in nx.connected_components(g):\n",
        "            # component = {float(node) for node in component}\n",
        "            tuple_component.append(component)\n",
        "\n",
        "        partitions.append(tuple(tuple_component))\n",
        "        if g.number_of_edges() == 0:\n",
        "            break\n",
        "\n",
        "    return pd.Series(partitions).drop_duplicates().tolist()"
      ]
    },
    {
      "cell_type": "code",
      "execution_count": 52,
      "metadata": {},
      "outputs": [],
      "source": [
        "def compute_modularity(G, partition):\n",
        "    '''\n",
        "    :param G: given graph\n",
        "    :param partition: a tuple of node sets.\n",
        "    :return result: modularity value for a given partition of the network.\n",
        "    '''\n",
        "    Q = 0\n",
        "    m = G.number_of_edges()\n",
        "    A = nx.to_numpy_array(G)\n",
        "    for nodes_u in G.nodes():\n",
        "        group_u = [i for i, part in enumerate(partition) if str(nodes_u) in part][0]\n",
        "        for nodes_v in G.nodes():\n",
        "            group_v = [i for i, part in enumerate(partition) if str(nodes_v) in part][0]\n",
        "            if group_u == group_v:\n",
        "                Q += (A[int(nodes_u)][int(nodes_v)] - G.degree(nodes_u) * G.degree(nodes_v) / (2 * m))\n",
        "    \n",
        "    result = Q / (2 * m)\n",
        "\n",
        "    return result"
      ]
    },
    {
      "cell_type": "code",
      "execution_count": 45,
      "metadata": {},
      "outputs": [],
      "source": [
        "# Combine both girvan_newman_algorithm or spectral clustering and modularity to find the best community partition\n",
        "def best_community(G, partitions):\n",
        "    '''\n",
        "    :param G: given graph\n",
        "    :param partitions: a list of tuples of sets of nodes in the graph. Each node set indicates a community and\n",
        "    each tuple is a sequence of communities at a certain level of the algorithm.\n",
        "    :return best_partition: the best partition of the network based on modularity score.\n",
        "    '''\n",
        "    best_partition = partitions[0]\n",
        "    best_modularity = compute_modularity(G, best_partition)\n",
        "    for partition in partitions[1:]:\n",
        "        modularity = compute_modularity(G, partition)\n",
        "        if modularity > best_modularity:\n",
        "            best_modularity = modularity\n",
        "            best_partition = partition\n",
        "\n",
        "    return best_partition"
      ]
    },
    {
      "cell_type": "code",
      "execution_count": 110,
      "metadata": {},
      "outputs": [],
      "source": [
        "def add_community_to_features(graph, node_information, method):\n",
        "  node_information['community'] = 0\n",
        "\n",
        "  if method == \"girvan\":\n",
        "    partitions = girvan_newman_algorithm(graph)\n",
        "    best_commu = best_community(graph, partitions)\n",
        "  elif method == \"spectral\":\n",
        "    # partitions = [spectral_clustering(graph, k) for k in [10, 30, 50, 100, 200, 400, 500, 600, 800, 1000]]\n",
        "    partitions = [spectral_clustering(graph, k) for k in range(2, 10)]\n",
        "    best_commu = best_community(graph, partitions)\n",
        "  \n",
        "  print(\"Number of communities:\", len(best_commu))\n",
        "\n",
        "  for i, community in enumerate(best_commu):\n",
        "      for node in community:\n",
        "          node_information.at[int(node), 'community'] = i\n",
        "  \n",
        "  comunity_features = pd.get_dummies(node_information[\"community\"]).map(lambda x: 1 if x else 0)\n",
        "  comunity_features.columns = [\"community_\" + str(i) for i in comunity_features.columns]\n",
        "  node_information = pd.concat([node_information, comunity_features], axis=1)\n",
        "  node_information.drop(\"community\", axis=1, inplace=True)\n",
        "\n",
        "  return node_information"
      ]
    },
    {
      "cell_type": "code",
      "execution_count": 56,
      "metadata": {
        "colab": {
          "base_uri": "https://localhost:8080/"
        },
        "id": "rc8KmQvg5vZd",
        "outputId": "f1222f5a-d2ac-4ac5-f8e6-2da878f5a0dc"
      },
      "outputs": [
        {
          "name": "stderr",
          "output_type": "stream",
          "text": [
            "  0%|          | 0/13994 [00:00<?, ?it/s]C:\\Users\\theog\\AppData\\Local\\Temp\\ipykernel_11604\\1395868025.py:12: FutureWarning: Setting an item of incompatible dtype is deprecated and will raise in a future error of pandas. Value '0.004727474972191324' has dtype incompatible with int64, please explicitly cast to a compatible dtype first.\n",
            "  node_information.at[source_node, 'degree_centrality'] = deg_centrality[source_node]\n",
            "100%|██████████| 13994/13994 [00:03<00:00, 4381.37it/s]\n"
          ]
        }
      ],
      "source": [
        "node_information = add_degree_centrality_to_features(residual_g,train_samples, val_samples,test_samples, node_information)\n",
        "# node_information = add_kcore_number_to_features(residual_g,train_samples, val_samples,test_samples, node_information)\n",
        "node_information = add_community_to_features(residual_g, node_information, method=\"spectral\")"
      ]
    },
    {
      "cell_type": "code",
      "execution_count": 57,
      "metadata": {
        "colab": {
          "base_uri": "https://localhost:8080/"
        },
        "id": "4-V_66GGw6lA",
        "outputId": "2edc14a4-d2e6-4a71-e0bb-d8b319534580"
      },
      "outputs": [
        {
          "name": "stderr",
          "output_type": "stream",
          "text": [
            "  0%|          | 0/8396 [00:00<?, ?it/s]"
          ]
        },
        {
          "name": "stderr",
          "output_type": "stream",
          "text": [
            "C:\\Users\\theog\\AppData\\Local\\Temp\\ipykernel_11604\\1492708844.py:27: RuntimeWarning: divide by zero encountered in scalar divide\n",
            "  aai = sum(1 / np.log(graph.degree(z)) for z in nx.common_neighbors(graph, source_node, target_node))\n",
            "100%|██████████| 8396/8396 [00:00<00:00, 17207.75it/s]\n",
            "100%|██████████| 2100/2100 [00:00<00:00, 26016.80it/s]\n",
            "100%|██████████| 3498/3498 [00:00<00:00, 18775.80it/s]\n"
          ]
        }
      ],
      "source": [
        "# --- Create feature vector for all edges in training set and val set ---\n",
        "train_features = feature_extractor(residual_g, train_samples, node_information)\n",
        "val_features = feature_extractor(residual_g, val_samples, node_information)\n",
        "test_features = feature_extractor(training_graph, test_samples, node_information)"
      ]
    },
    {
      "cell_type": "markdown",
      "metadata": {
        "id": "dP8z-Hz3w6lA"
      },
      "source": [
        "# 2. Create Train, Val and Test Dataset"
      ]
    },
    {
      "cell_type": "code",
      "execution_count": 58,
      "metadata": {
        "id": "tqMXGQu7w6lA"
      },
      "outputs": [],
      "source": [
        "from sklearn.preprocessing import StandardScaler\n",
        "from torch_geometric.loader import NeighborLoader, LinkNeighborLoader, LinkLoader, NodeLoader"
      ]
    },
    {
      "cell_type": "code",
      "execution_count": 77,
      "metadata": {
        "id": "hAZCJ9UXw6lB"
      },
      "outputs": [],
      "source": [
        "x = torch.tensor(node_information.values, dtype=torch.float)\n",
        "\n",
        "# Convert labels to PyTorch tensor\n",
        "y_train = torch.tensor([[1 if label == 0 else 0, 1 if label == 1 else 0] for label in train_labels], dtype=torch.long)\n",
        "y_val = torch.tensor([[1 if label == 0 else 0, 1 if label == 1 else 0] for label in val_labels], dtype=torch.long)\n",
        "\n",
        "# Convert edge indices to PyTorch tensor\n",
        "edge_index_train = torch.tensor(train_samples,dtype=torch.long).transpose(0, 1)\n",
        "edge_index_val = torch.tensor(val_samples, dtype=torch.long).transpose(0,1)\n",
        "edge_index_test = torch.tensor(test_samples, dtype=torch.long).transpose(0,1)\n",
        "\n",
        "# create edge features\n",
        "edge_attr_train = torch.tensor(train_features, dtype=torch.float)\n",
        "edge_attr_val = torch.tensor(val_features, dtype=torch.float)\n",
        "edge_attr_test = torch.tensor(test_features, dtype=torch.float)\n"
      ]
    },
    {
      "cell_type": "code",
      "execution_count": 78,
      "metadata": {
        "colab": {
          "base_uri": "https://localhost:8080/"
        },
        "id": "wnzRgXUqw6lB",
        "outputId": "bfdd333d-6b1e-4395-fd04-6d659a4768bb"
      },
      "outputs": [],
      "source": [
        "# Create Data objects for train and validation sets\n",
        "data_train = Data(x=x, edge_index=edge_index_train , edge_attr= edge_attr_train,y=y_train)\n",
        "data_val = Data(x=x, edge_index=edge_index_val, edge_attr = edge_attr_val ,y=y_val)\n",
        "\n",
        "# # create dataloader for train et val\n",
        "batch_size = 32\n",
        "train_data_loader = NeighborLoader(data_train, num_neighbors=[-1], batch_size=batch_size, shuffle=True)\n",
        "val_data_loader = NeighborLoader(data_val, num_neighbors=[-1], batch_size=batch_size, shuffle=True)\n"
      ]
    },
    {
      "cell_type": "markdown",
      "metadata": {
        "id": "HOfQDhc1w6lB"
      },
      "source": [
        "# 3. Model Definition"
      ]
    },
    {
      "cell_type": "code",
      "execution_count": 79,
      "metadata": {
        "id": "XCUbGbO-ufdV"
      },
      "outputs": [],
      "source": [
        "from torch_geometric.nn import GCNConv\n",
        "class GATModel(nn.Module):\n",
        "  def __init__(self, input_size, hidden_size, hidden_size_bis, output_size_embed, nb_edge_features):\n",
        "    super().__init__()\n",
        "    # self.conv1 = GATv2Conv(input_size, hidden_size, heads=6)\n",
        "    # self.conv2 = GATv2Conv(6 * hidden_size, hidden_size, heads=4)\n",
        "    # self.conv3 = GATv2Conv(4 * hidden_size, hidden_size_bis, heads=4)\n",
        "    # self.conv4 = GATv2Conv(4 * hidden_size_bis, output_size_embed, heads=6, concat=False)\n",
        "\n",
        "    # self.conv1 = SAGEConv(input_size, hidden_size, aggr=\"max\")\n",
        "    # self.conv2 = SAGEConv(hidden_size, hidden_size_bis, aggr=\"mean\")\n",
        "    # self.conv3 = SAGEConv(hidden_size_bis, hidden_size_bis//2, aggr=\"max\")\n",
        "    # self.conv4 = SAGEConv(hidden_size_bis//2, hidden_size_bis//2, aggr=\"mean\")\n",
        "    # self.conv5 = SAGEConv(hidden_size_bis//2, output_size_embed, aggr=\"max\")\n",
        "\n",
        "    self.conv1 = GCNConv(input_size, hidden_size)\n",
        "    self.conv2 = GCNConv(hidden_size, hidden_size_bis)\n",
        "    self.conv3 = GCNConv(hidden_size_bis, hidden_size_bis//2)\n",
        "    self.conv4 = GCNConv(hidden_size_bis//2, hidden_size_bis//2)\n",
        "    self.conv5 = GCNConv(hidden_size_bis//2, output_size_embed)\n",
        "\n",
        "    self.lin1 = nn.Linear(2 * output_size_embed + nb_edge_features, output_size_embed)\n",
        "    self.lin2 = nn.Linear(output_size_embed, output_size_embed)\n",
        "    self.lin3 = nn.Linear(output_size_embed, output_size_embed//2)\n",
        "    self.lin4 = nn.Linear(output_size_embed//2, 2)\n",
        "\n",
        "  def forward(self, x, edge_index, edge_attr):\n",
        "    x = self.conv1(x, edge_index)\n",
        "    x = nn.functional.elu(x)\n",
        "    x = nn.functional.dropout(x, p=0.5)\n",
        "    x = self.conv2(x, edge_index)\n",
        "    x = nn.functional.elu(x)\n",
        "    x = nn.functional.dropout(x, p=0.5)\n",
        "    x = self.conv3(x, edge_index)\n",
        "    x = nn.functional.elu(x)\n",
        "    x = nn.functional.dropout(x, p=0.5)\n",
        "    x = self.conv4(x, edge_index)\n",
        "    x = nn.functional.elu(x)\n",
        "    x = nn.functional.dropout(x, p=0.5)\n",
        "    x = self.conv5(x, edge_index)\n",
        "    x = nn.functional.elu(x)\n",
        "    x = nn.functional.dropout(x, p=0.5)\n",
        "\n",
        "    row, col = edge_index\n",
        "\n",
        "    x = torch.cat([x[row], x[col], edge_attr], dim=1)\n",
        "    x = self.lin1(x)\n",
        "    x = nn.functional.elu(x)\n",
        "    x = nn.functional.dropout(x, p=0.5)\n",
        "    x = self.lin2(x)\n",
        "    x = nn.functional.elu(x)\n",
        "    x = nn.functional.dropout(x, p=0.5)\n",
        "    x = self.lin3(x)\n",
        "    x = nn.functional.elu(x)\n",
        "    x = nn.functional.dropout(x, p=0.5)\n",
        "    x = self.lin4(x)\n",
        "\n",
        "    return x"
      ]
    },
    {
      "cell_type": "code",
      "execution_count": 80,
      "metadata": {
        "id": "OnIzeM9Cuhi0"
      },
      "outputs": [],
      "source": [
        "def evaluate(model, loss_fcn, device, dataloader):\n",
        "    score_list_batch = []\n",
        "\n",
        "    model.eval()\n",
        "    for i, batch in enumerate(dataloader):\n",
        "        batch = batch.to(device)\n",
        "        output = model(batch.x, batch.edge_index, batch.edge_attr)\n",
        "        loss_test = loss_fcn(output, batch.y.float())\n",
        "        predict = np.where(output.detach().cpu().numpy()[:, 1] >= 0, 1, 0)\n",
        "        score = accuracy_score(batch.y.cpu().numpy()[:, 1], predict)\n",
        "        score_list_batch.append(score)\n",
        "\n",
        "    return np.array(score_list_batch).mean()"
      ]
    },
    {
      "cell_type": "code",
      "execution_count": 81,
      "metadata": {
        "id": "2ZLlJBtBujFy"
      },
      "outputs": [],
      "source": [
        "def train(model, loss_fcn, device, optimizer, max_epochs, train_dataloader, val_dataloader, scheduler = None):\n",
        "\n",
        "    epoch_list = []\n",
        "    scores_list = []\n",
        "    all_losses= []\n",
        "    best_model_state_dict = None\n",
        "    best_score = 0\n",
        "\n",
        "    # loop over epochs\n",
        "    for epoch in range(max_epochs):\n",
        "        model.train()\n",
        "        losses = []\n",
        "\n",
        "        # loop over batches\n",
        "        for i, train_batch in enumerate(train_dataloader):\n",
        "            optimizer.zero_grad()\n",
        "            train_batch_device = train_batch.to(device)\n",
        "            # logits is the output of the model\n",
        "            output = model(train_batch_device.x, train_batch_device.edge_index, train_batch_device.edge_attr)\n",
        "            # compute the loss\n",
        "            loss = loss_fcn(output, train_batch_device.y.float())\n",
        "            # optimizer step\n",
        "            loss.backward()\n",
        "            optimizer.step()\n",
        "            losses.append(loss.item())\n",
        "\n",
        "        loss_data = np.array(losses).mean()\n",
        "        all_losses.append(loss_data)\n",
        "        print(\"Epoch {:05d} | Loss: {:.4f}\".format(epoch + 1, loss_data))\n",
        "\n",
        "        if scheduler is not None:\n",
        "            scheduler.step()\n",
        "\n",
        "        if epoch % 5 == 0:\n",
        "            # evaluate the model on the validation set\n",
        "            # computes the f1-score (see next function)\n",
        "            score = evaluate(model, loss_fcn, device, val_dataloader)\n",
        "            print(\"Accuracy Score: {:.4f}\".format(score))\n",
        "            scores_list.append(score)\n",
        "            epoch_list.append(epoch)\n",
        "            # Check if the current model is the best one so far\n",
        "            if score > best_score:\n",
        "                best_score = score\n",
        "                best_model_state_dict = model.state_dict()\n",
        "    # Load the best model parameters\n",
        "    if best_model_state_dict is not None:\n",
        "        model.load_state_dict(best_model_state_dict)\n",
        "    return epoch_list, scores_list, all_losses\n"
      ]
    },
    {
      "cell_type": "markdown",
      "metadata": {
        "id": "Fw449TQFr2MX"
      },
      "source": [
        "# 4. Training"
      ]
    },
    {
      "cell_type": "code",
      "execution_count": 84,
      "metadata": {
        "colab": {
          "base_uri": "https://localhost:8080/"
        },
        "id": "mkl1NrslumSg",
        "outputId": "a8b0dd01-610a-4293-c2fe-2a50d7f23d3c"
      },
      "outputs": [
        {
          "name": "stdout",
          "output_type": "stream",
          "text": [
            "\n",
            "Device:  cpu\n"
          ]
        }
      ],
      "source": [
        "### DEVICE GPU OR CPU : will select GPU if available\n",
        "device = torch.device(\"cuda\" if torch.cuda.is_available() else \"cpu\")\n",
        "print(\"\\nDevice: \", device)\n",
        "\n",
        "# Create the GAT model\n",
        "model = GATModel(input_size=x.shape[1], hidden_size=500, hidden_size_bis=400, output_size_embed=300, nb_edge_features=data_train.num_edge_features).to(device)\n",
        "\n",
        "# Define the loss function and optimizer\n",
        "loss_fcn = nn.BCEWithLogitsLoss()\n",
        "optimizer = optim.Adam(model.parameters(), lr=0.001, weight_decay=0.005)\n",
        "scheduler = optim.lr_scheduler.StepLR(optimizer, step_size=20, gamma=0.5)\n",
        "\n",
        "max_epochs=10"
      ]
    },
    {
      "cell_type": "code",
      "execution_count": null,
      "metadata": {
        "colab": {
          "base_uri": "https://localhost:8080/"
        },
        "id": "ql_nNxVq5D3H",
        "outputId": "7d3f02c8-400f-4cde-d9e4-7a573020071a"
      },
      "outputs": [],
      "source": [
        "best_model_state_dict = None\n",
        "best_score = 0\n",
        "train_losses = []\n",
        "test_losses = []\n",
        "# Initialize with a low value if accuracy is the metric# Train without mini-batches\n",
        "data_train_device = data_train.to(device)\n",
        "data_val_device = data_val.to(device)\n",
        "\n",
        "for epoch in range(max_epochs):\n",
        "    model.train()\n",
        "    optimizer.zero_grad()\n",
        "    out = model(data_train_device.x, data_train_device.edge_index, data_train_device.edge_attr)\n",
        "    loss = loss_fcn(out, data_train_device.y.float())\n",
        "    loss.backward()\n",
        "    optimizer.step()\n",
        "\n",
        "    print(\"Epoch {:05d} | Loss: {:.4f}\".format(epoch + 1, loss.item()))\n",
        "\n",
        "    train_losses.append(loss.item())\n",
        "\n",
        "    model.eval()\n",
        "    output = model(data_val_device.x, data_val_device.edge_index, data_val_device.edge_attr)\n",
        "    loss_test = loss_fcn(output, data_val_device.y.float())\n",
        "    test_losses.append(loss_test.item())\n",
        "\n",
        "    predict = np.where(output.detach().cpu().numpy()[:, 1] >= 0.5, 1, 0)\n",
        "    score = accuracy_score(data_val_device.y.cpu().numpy()[:, 1], predict)\n",
        "    print(\"Accuracy core: {:.4f}\".format(score))\n",
        "    # Check if the current model is the best one so far\n",
        "    if score > best_score:\n",
        "        best_score = score\n",
        "        best_model_state_dict = model.state_dict()\n",
        "\n",
        "# Load the best model parameters\n",
        "if best_model_state_dict is not None:\n",
        "    model.load_state_dict(best_model_state_dict)"
      ]
    },
    {
      "cell_type": "code",
      "execution_count": 339,
      "metadata": {
        "colab": {
          "base_uri": "https://localhost:8080/",
          "height": 1000
        },
        "id": "WXEmt72BbQn4",
        "outputId": "d66d8e7b-e894-4645-d961-296106f852b5"
      },
      "outputs": [
        {
          "data": {
            "image/png": "[encoded data removed]",
            "text/plain": [
              "<Figure size 800x600 with 2 Axes>"
            ]
          },
          "metadata": {},
          "output_type": "display_data"
        },
        {
          "data": {
            "image/png": "[encoded data removed]",
            "text/plain": [
              "<Figure size 1000x500 with 1 Axes>"
            ]
          },
          "metadata": {},
          "output_type": "display_data"
        }
      ],
      "source": [
        "val_output = model(data_val_device.x, data_val_device.edge_index, data_val_device.edge_attr)\n",
        "val_preds = np.where(val_output.detach().cpu().numpy() >= 0, 1, 0)[:, 1]\n",
        "true_labels = torch.argmax(data_val_device.y.float(), dim=1).cpu().numpy()# Générer la matrice de confusion\n",
        "conf_matrix = confusion_matrix(true_labels, val_preds)\n",
        "\n",
        "# Plot confusion matrix\n",
        "plt.figure(figsize=(8, 6))\n",
        "sns.set(font_scale=1.4)  # for label size\n",
        "sns.heatmap(conf_matrix, annot=True, annot_kws={\"size\": 16}, fmt='g', cmap='Blues',\n",
        "            xticklabels=['Predicted 0', 'Predicted 1'],\n",
        "            yticklabels=['Actual 0', 'Actual 1'])\n",
        "\n",
        "plt.xlabel('Predicted labels')\n",
        "plt.ylabel('True labels')\n",
        "plt.title('Confusion Matrix')\n",
        "plt.show()\n",
        "# Plot both training and test loss\n",
        "plt.figure(figsize=(10, 5))\n",
        "plt.plot(train_losses, label='Training Loss')\n",
        "plt.plot(test_losses, label='Test Loss')\n",
        "plt.xlabel('Epoch')\n",
        "plt.ylabel('Loss')\n",
        "plt.title('Training and Test Loss')\n",
        "plt.legend()\n",
        "plt.grid(True)\n",
        "plt.show()"
      ]
    },
    {
      "cell_type": "markdown",
      "metadata": {
        "id": "MMLoQGRqr2MX"
      },
      "source": [
        "## Train on both val and train before submission"
      ]
    },
    {
      "cell_type": "code",
      "execution_count": null,
      "metadata": {},
      "outputs": [],
      "source": [
        "# --- Create feature vector for all nodes in training set and val set ---\n",
        "node_information = pd.read_csv('node_information.csv', header=None, index_col=0)\n",
        "mapping = {node_information.index[i]: i for i in range(len(node_information))}\n",
        "node_information.index = node_information.index.map(mapping)\n",
        "node_information = add_degree_centrality_to_features(training_graph, train_samples, val_samples,test_samples, node_information)\n",
        "# node_information = add_kcore_number_to_features(training_graph, train_samples, val_samples,test_samples, node_information)\n",
        "node_information = add_community_to_features(training_graph, node_information, method=\"spectral\")"
      ]
    },
    {
      "cell_type": "code",
      "execution_count": 93,
      "metadata": {
        "colab": {
          "base_uri": "https://localhost:8080/"
        },
        "id": "Sq2wj4KypAFZ",
        "outputId": "cc3f670c-6804-4a4f-da3b-604457a5b472"
      },
      "outputs": [
        {
          "name": "stderr",
          "output_type": "stream",
          "text": [
            "  0%|          | 0/8396 [00:00<?, ?it/s]C:\\Users\\theog\\AppData\\Local\\Temp\\ipykernel_11604\\1492708844.py:27: RuntimeWarning: divide by zero encountered in scalar divide\n",
            "  aai = sum(1 / np.log(graph.degree(z)) for z in nx.common_neighbors(graph, source_node, target_node))\n",
            "100%|██████████| 8396/8396 [00:00<00:00, 52903.35it/s]\n",
            "100%|██████████| 2100/2100 [00:00<00:00, 56349.09it/s]\n"
          ]
        }
      ],
      "source": [
        "# --- Create feature vector for all edges in training set and val set ---\n",
        "train_features = feature_extractor(training_graph, train_samples, node_information)\n",
        "val_features = feature_extractor(training_graph, val_samples, node_information)"
      ]
    },
    {
      "cell_type": "markdown",
      "metadata": {
        "id": "1V3L5Mg5pAFb"
      },
      "source": [
        "# 2. Create Train, Val and Test Dataset"
      ]
    },
    {
      "cell_type": "code",
      "execution_count": 94,
      "metadata": {
        "id": "mxRNWU3cpAFc"
      },
      "outputs": [],
      "source": [
        "x = torch.tensor(node_information.values, dtype=torch.float)\n",
        "\n",
        "# Convert labels to PyTorch tensor\n",
        "y_train = torch.tensor([[1 if label == 0 else 0, 1 if label == 1 else 0] for label in train_labels], dtype=torch.long)\n",
        "y_val = torch.tensor([[1 if label == 0 else 0, 1 if label == 1 else 0] for label in val_labels], dtype=torch.long)\n",
        "\n",
        "# Convert edge indices to PyTorch tensor\n",
        "edge_index_train = torch.tensor(train_samples,dtype=torch.long).transpose(0, 1)\n",
        "edge_index_val = torch.tensor(val_samples, dtype=torch.long).transpose(0,1)\n",
        "edge_index_test = torch.tensor(test_samples, dtype=torch.long).transpose(0,1)\n",
        "\n",
        "# create edge features\n",
        "edge_attr_train = torch.tensor(train_features, dtype=torch.float)\n",
        "edge_attr_val = torch.tensor(val_features, dtype=torch.float)\n",
        "edge_attr_test = torch.tensor(test_features, dtype=torch.float)\n"
      ]
    },
    {
      "cell_type": "code",
      "execution_count": 95,
      "metadata": {
        "colab": {
          "base_uri": "https://localhost:8080/"
        },
        "id": "trnv0PM2pAFc",
        "outputId": "031572ab-8ac3-420b-cbc3-1886b9d9d8d2"
      },
      "outputs": [],
      "source": [
        "# Create Data objects for train and validation sets\n",
        "data_train = Data(x=x, edge_index=edge_index_train , edge_attr= edge_attr_train,y=y_train)\n",
        "data_val = Data(x=x, edge_index=edge_index_val, edge_attr = edge_attr_val ,y=y_val)\n",
        "\n",
        "# # create dataloader for train et val\n",
        "batch_size = 32\n",
        "train_data_loader = NeighborLoader(data_train, num_neighbors=[-1], batch_size=batch_size, shuffle=True)\n",
        "val_data_loader = NeighborLoader(data_val, num_neighbors=[-1], batch_size=batch_size, shuffle=True)\n"
      ]
    },
    {
      "cell_type": "code",
      "execution_count": 97,
      "metadata": {},
      "outputs": [
        {
          "name": "stdout",
          "output_type": "stream",
          "text": [
            "\n",
            "Device:  cpu\n"
          ]
        }
      ],
      "source": [
        "### DEVICE GPU OR CPU : will select GPU if available\n",
        "device = torch.device(\"cuda\" if torch.cuda.is_available() else \"cpu\")\n",
        "print(\"\\nDevice: \", device)\n",
        "\n",
        "# Create the GAT model\n",
        "model = GATModel(input_size=x.shape[1], hidden_size=500, hidden_size_bis=400, output_size_embed=300, nb_edge_features=data_train.num_edge_features).to(device)\n",
        "\n",
        "# Define the loss function and optimizer\n",
        "loss_fcn = nn.BCEWithLogitsLoss()\n",
        "optimizer = optim.Adam(model.parameters(), lr=0.001, weight_decay=0.005)\n",
        "scheduler = optim.lr_scheduler.StepLR(optimizer, step_size=20, gamma=0.5)\n",
        "\n",
        "max_epochs=10"
      ]
    },
    {
      "cell_type": "code",
      "execution_count": 104,
      "metadata": {
        "colab": {
          "base_uri": "https://localhost:8080/"
        },
        "id": "nnouZR4vr2MX",
        "outputId": "da303b01-6310-4f04-dcbe-16a7d48db10e"
      },
      "outputs": [
        {
          "name": "stdout",
          "output_type": "stream",
          "text": [
            "Epoch 00001 | Loss: 0.5220| Accuracy: 0.7273\n",
            "Epoch 00002 | Loss: 0.5214| Accuracy: 0.7322\n",
            "Epoch 00003 | Loss: 0.5236| Accuracy: 0.7348\n",
            "Epoch 00004 | Loss: 0.5203| Accuracy: 0.7350\n",
            "Epoch 00005 | Loss: 0.5182| Accuracy: 0.7350\n",
            "Epoch 00006 | Loss: 0.5151| Accuracy: 0.7318\n",
            "Epoch 00007 | Loss: 0.5133| Accuracy: 0.7320\n",
            "Epoch 00008 | Loss: 0.5136| Accuracy: 0.7311\n",
            "Epoch 00009 | Loss: 0.5143| Accuracy: 0.7313\n",
            "Epoch 00010 | Loss: 0.5119| Accuracy: 0.7386\n",
            "Accuracy of : 0.7402820121951219\n"
          ]
        }
      ],
      "source": [
        "best_model_state_dict = None\n",
        "best_score = 0\n",
        "\n",
        "# Train without mini-batches\n",
        "data_train_device = data_train.to(device)\n",
        "data_val_device = data_val.to(device)\n",
        "# fusionner les 2 datasets\n",
        "\n",
        "data = torch.cat([data_train_device.x, data_val_device.x], dim=0)\n",
        "edge_index = torch.cat([data_train_device.edge_index, data_val_device.edge_index], dim=1)\n",
        "edge_attr = torch.cat([data_train_device.edge_attr, data_val_device.edge_attr], dim=0)\n",
        "y = torch.cat([data_train_device.y, data_val_device.y], dim=0)\n",
        "\n",
        "for epoch in range(max_epochs):\n",
        "    model.train()\n",
        "    optimizer.zero_grad()\n",
        "    out = model(data, edge_index, edge_attr)\n",
        "    predict = np.where(out.detach().cpu().numpy()[:, 1] >= 0.5, 1, 0)\n",
        "    score = accuracy_score(y.cpu().numpy()[:, 1], predict)\n",
        "    loss = loss_fcn(out,y.float())\n",
        "    loss.backward()\n",
        "    optimizer.step()\n",
        "\n",
        "\n",
        "    print(\"Epoch {:05d} | Loss: {:.4f}| Accuracy: {:.4f}\".format(epoch + 1, loss.item(), score))\n",
        "\n",
        "    if score > best_score:\n",
        "        best_score = score\n",
        "        best_model_state_dict = model.state_dict()\n",
        "\n",
        "# Load the best model parameters\n",
        "if best_model_state_dict is not None:\n",
        "    model.load_state_dict(best_model_state_dict)\n",
        "    out = model(data, edge_index, edge_attr)\n",
        "    predict = np.where(out.detach().cpu().numpy()[:, 1] >= 0.5, 1, 0)\n",
        "    score = accuracy_score(y.cpu().numpy()[:, 1], predict)\n",
        "    print(f'Accuracy of : {score}')"
      ]
    },
    {
      "cell_type": "markdown",
      "metadata": {
        "id": "j4JimzWir2MX"
      },
      "source": [
        "# 5.  Create submission"
      ]
    },
    {
      "cell_type": "code",
      "execution_count": 105,
      "metadata": {
        "id": "gDWZ415PMYT4"
      },
      "outputs": [],
      "source": [
        "model.eval()\n",
        "output = model(x.to(device), edge_index_test.to(device),edge_attr_test.to(device)  )\n",
        "pred_test = np.where(output.detach().cpu().numpy() >= 0, 1, 0)[:, 1]"
      ]
    },
    {
      "cell_type": "code",
      "execution_count": 106,
      "metadata": {
        "colab": {
          "base_uri": "https://localhost:8080/"
        },
        "id": "Wyb1xNC_MoN9",
        "outputId": "f6f84f81-4108-44ef-c809-eb9b1841d746"
      },
      "outputs": [
        {
          "data": {
            "text/plain": [
              "array([0, 0, 0, ..., 1, 0, 0])"
            ]
          },
          "execution_count": 106,
          "metadata": {},
          "output_type": "execute_result"
        }
      ],
      "source": [
        "pred_test"
      ]
    },
    {
      "cell_type": "code",
      "execution_count": 107,
      "metadata": {
        "id": "X9udbYt0_G7e"
      },
      "outputs": [],
      "source": [
        "preds = zip(np.array(range(len(test_set))), pred_test)"
      ]
    },
    {
      "cell_type": "code",
      "execution_count": 108,
      "metadata": {
        "id": "pQGhCc2q_5wx"
      },
      "outputs": [],
      "source": [
        "import os\n",
        "import csv\n",
        "\n",
        "os.makedirs(\"models\", exist_ok=True)\n",
        "i = len(os.listdir(\"models\")) +1\n",
        "model_path = f\"models/GCN_best_model{i}.csv\"\n",
        "\n",
        "with open(model_path,\"w\") as pred:\n",
        "    csv_out = csv.writer(pred)\n",
        "    csv_out.writerow(i for i in [\"ID\", \"Predicted\"])\n",
        "    for row in preds:\n",
        "         csv_out.writerow(row)\n",
        "    pred.close()\n"
      ]
    },
    {
      "cell_type": "code",
      "execution_count": 292,
      "metadata": {
        "id": "PPl04e3UaQBd"
      },
      "outputs": [],
      "source": []
    }
  ],
  "metadata": {
    "accelerator": "GPU",
    "colab": {
      "gpuType": "T4",
      "provenance": []
    },
    "kernelspec": {
      "display_name": "Python 3",
      "name": "python3"
    },
    "language_info": {
      "codemirror_mode": {
        "name": "ipython",
        "version": 3
      },
      "file_extension": ".py",
      "mimetype": "text/x-python",
      "name": "python",
      "nbconvert_exporter": "python",
      "pygments_lexer": "ipython3",
      "version": "3.9.13"
    }
  },
  "nbformat": 4,
  "nbformat_minor": 0
}
